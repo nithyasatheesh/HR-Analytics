{
 "cells": [
  {
   "cell_type": "markdown",
   "metadata": {},
   "source": [
    "# HR Analytics\n",
    "### Exploratory Data Analysis\n",
    "\n",
    "[hr.csv]"
   ]
  },
  {
   "cell_type": "markdown",
   "metadata": {},
   "source": [
    "This dataset is about 1470 rows and 35 attributes which consist of 8 categorical variables and 26 numerical variables and the target label for the data set is “attrition”. "
   ]
  },
  {
   "cell_type": "markdown",
   "metadata": {},
   "source": []
  },
  {
   "cell_type": "markdown",
   "metadata": {},
   "source": [
    "Exploratory Data Analysis :\n",
    "In this section, we explore the dataset by taking a look at the feature distributions, how correlated one feature is to the other and create some Seaborn visualisations"
   ]
  },
  {
   "cell_type": "code",
   "execution_count": 1,
   "metadata": {},
   "outputs": [],
   "source": [
    "#Import packages\n",
    "import os\n",
    "import pandas as pd #To work with dataset\n",
    "import numpy as np #Math library\n",
    "import seaborn as sns #Graph library that use matplot in background\n",
    "import matplotlib.pyplot as plt #to plot some parameters in seaborn\n",
    "%matplotlib inline"
   ]
  },
  {
   "cell_type": "code",
   "execution_count": 2,
   "metadata": {},
   "outputs": [],
   "source": [
    "#Change the working directory\n",
    "os.chdir(\"D://Files\")"
   ]
  },
  {
   "cell_type": "code",
   "execution_count": 3,
   "metadata": {},
   "outputs": [],
   "source": [
    "#Load the data set\n",
    "hr=pd.read_csv(\"hr.csv\")"
   ]
  },
  {
   "cell_type": "raw",
   "metadata": {},
   "source": [
    "#Knowning the data\n",
    "\n",
    "3.1 Looking the Type of Data\n",
    "3.2 Shape of data\n",
    "3.3 Null Numbers\n",
    "3.4 Unique values\n",
    "3.5 The first rows of our dataset"
   ]
  },
  {
   "cell_type": "code",
   "execution_count": 4,
   "metadata": {},
   "outputs": [
    {
     "data": {
      "text/plain": [
       "EmployeeCount               int64\n",
       "EmployeeID                  int64\n",
       "Department                 object\n",
       "JobRole                    object\n",
       "Attrition                  object\n",
       "Gender                     object\n",
       "Age                         int64\n",
       "MaritalStatus              object\n",
       "Education                  object\n",
       "EducationField             object\n",
       "BusinessTravel             object\n",
       "JobInvolvement             object\n",
       "JobLevel                    int64\n",
       "JobSatisfaction            object\n",
       "Hourlyrate                  int64\n",
       "Income                      int64\n",
       "Salaryhike                  int64\n",
       "OverTime                   object\n",
       "Workex                      int64\n",
       "YearsSinceLastPromotion     int64\n",
       "EmpSatisfaction            object\n",
       "TrainingTimesLastYear       int64\n",
       "WorkLifeBalance            object\n",
       "Performance_Rating         object\n",
       "dtype: object"
      ]
     },
     "execution_count": 4,
     "metadata": {},
     "output_type": "execute_result"
    }
   ],
   "source": [
    "#Looking the Type of Data\n",
    "hr.dtypes"
   ]
  },
  {
   "cell_type": "code",
   "execution_count": 5,
   "metadata": {},
   "outputs": [
    {
     "data": {
      "text/plain": [
       "(1470, 24)"
      ]
     },
     "execution_count": 5,
     "metadata": {},
     "output_type": "execute_result"
    }
   ],
   "source": [
    "#look at the Shape of data\n",
    "hr.shape"
   ]
  },
  {
   "cell_type": "code",
   "execution_count": 6,
   "metadata": {},
   "outputs": [
    {
     "name": "stdout",
     "output_type": "stream",
     "text": [
      "<class 'pandas.core.frame.DataFrame'>\n",
      "RangeIndex: 1470 entries, 0 to 1469\n",
      "Data columns (total 24 columns):\n",
      "EmployeeCount              1470 non-null int64\n",
      "EmployeeID                 1470 non-null int64\n",
      "Department                 1470 non-null object\n",
      "JobRole                    1470 non-null object\n",
      "Attrition                  1470 non-null object\n",
      "Gender                     1470 non-null object\n",
      "Age                        1470 non-null int64\n",
      "MaritalStatus              1470 non-null object\n",
      "Education                  1470 non-null object\n",
      "EducationField             1470 non-null object\n",
      "BusinessTravel             1470 non-null object\n",
      "JobInvolvement             1470 non-null object\n",
      "JobLevel                   1470 non-null int64\n",
      "JobSatisfaction            1470 non-null object\n",
      "Hourlyrate                 1470 non-null int64\n",
      "Income                     1470 non-null int64\n",
      "Salaryhike                 1470 non-null int64\n",
      "OverTime                   1470 non-null object\n",
      "Workex                     1470 non-null int64\n",
      "YearsSinceLastPromotion    1470 non-null int64\n",
      "EmpSatisfaction            1470 non-null object\n",
      "TrainingTimesLastYear      1470 non-null int64\n",
      "WorkLifeBalance            1470 non-null object\n",
      "Performance_Rating         1470 non-null object\n",
      "dtypes: int64(10), object(14)\n",
      "memory usage: 275.7+ KB\n"
     ]
    }
   ],
   "source": [
    "#Looking the missing values,type and shape of the data\n",
    "hr.info()\n",
    "#hr.dtypes"
   ]
  },
  {
   "cell_type": "code",
   "execution_count": 7,
   "metadata": {},
   "outputs": [
    {
     "data": {
      "text/plain": [
       "array(['Female', 'Male'], dtype=object)"
      ]
     },
     "execution_count": 7,
     "metadata": {},
     "output_type": "execute_result"
    }
   ],
   "source": [
    "#Look at the unique values of Gender varible in the data set\n",
    "hr['Gender'].unique()"
   ]
  },
  {
   "cell_type": "code",
   "execution_count": 8,
   "metadata": {},
   "outputs": [
    {
     "data": {
      "text/html": [
       "<div>\n",
       "<style scoped>\n",
       "    .dataframe tbody tr th:only-of-type {\n",
       "        vertical-align: middle;\n",
       "    }\n",
       "\n",
       "    .dataframe tbody tr th {\n",
       "        vertical-align: top;\n",
       "    }\n",
       "\n",
       "    .dataframe thead th {\n",
       "        text-align: right;\n",
       "    }\n",
       "</style>\n",
       "<table border=\"1\" class=\"dataframe\">\n",
       "  <thead>\n",
       "    <tr style=\"text-align: right;\">\n",
       "      <th></th>\n",
       "      <th>EmployeeCount</th>\n",
       "      <th>EmployeeID</th>\n",
       "      <th>Department</th>\n",
       "      <th>JobRole</th>\n",
       "      <th>Attrition</th>\n",
       "      <th>Gender</th>\n",
       "      <th>Age</th>\n",
       "      <th>MaritalStatus</th>\n",
       "      <th>Education</th>\n",
       "      <th>EducationField</th>\n",
       "      <th>...</th>\n",
       "      <th>Hourlyrate</th>\n",
       "      <th>Income</th>\n",
       "      <th>Salaryhike</th>\n",
       "      <th>OverTime</th>\n",
       "      <th>Workex</th>\n",
       "      <th>YearsSinceLastPromotion</th>\n",
       "      <th>EmpSatisfaction</th>\n",
       "      <th>TrainingTimesLastYear</th>\n",
       "      <th>WorkLifeBalance</th>\n",
       "      <th>Performance_Rating</th>\n",
       "    </tr>\n",
       "  </thead>\n",
       "  <tbody>\n",
       "    <tr>\n",
       "      <th>0</th>\n",
       "      <td>1</td>\n",
       "      <td>1</td>\n",
       "      <td>Sales</td>\n",
       "      <td>Sales Executive</td>\n",
       "      <td>Yes</td>\n",
       "      <td>Female</td>\n",
       "      <td>41</td>\n",
       "      <td>Single</td>\n",
       "      <td>College</td>\n",
       "      <td>Life Sciences</td>\n",
       "      <td>...</td>\n",
       "      <td>94</td>\n",
       "      <td>5993</td>\n",
       "      <td>11</td>\n",
       "      <td>Yes</td>\n",
       "      <td>8</td>\n",
       "      <td>0</td>\n",
       "      <td>Medium</td>\n",
       "      <td>0</td>\n",
       "      <td>Bad</td>\n",
       "      <td>Excellent</td>\n",
       "    </tr>\n",
       "    <tr>\n",
       "      <th>1</th>\n",
       "      <td>1</td>\n",
       "      <td>2</td>\n",
       "      <td>Research &amp; Development</td>\n",
       "      <td>Research Scientist</td>\n",
       "      <td>No</td>\n",
       "      <td>Male</td>\n",
       "      <td>49</td>\n",
       "      <td>Married</td>\n",
       "      <td>Below College</td>\n",
       "      <td>Life Sciences</td>\n",
       "      <td>...</td>\n",
       "      <td>61</td>\n",
       "      <td>5130</td>\n",
       "      <td>23</td>\n",
       "      <td>No</td>\n",
       "      <td>10</td>\n",
       "      <td>1</td>\n",
       "      <td>High</td>\n",
       "      <td>3</td>\n",
       "      <td>Better</td>\n",
       "      <td>Outstanding</td>\n",
       "    </tr>\n",
       "    <tr>\n",
       "      <th>2</th>\n",
       "      <td>1</td>\n",
       "      <td>4</td>\n",
       "      <td>Research &amp; Development</td>\n",
       "      <td>Laboratory Technician</td>\n",
       "      <td>Yes</td>\n",
       "      <td>Male</td>\n",
       "      <td>37</td>\n",
       "      <td>Single</td>\n",
       "      <td>College</td>\n",
       "      <td>Other</td>\n",
       "      <td>...</td>\n",
       "      <td>92</td>\n",
       "      <td>2090</td>\n",
       "      <td>15</td>\n",
       "      <td>Yes</td>\n",
       "      <td>7</td>\n",
       "      <td>0</td>\n",
       "      <td>Very High</td>\n",
       "      <td>3</td>\n",
       "      <td>Better</td>\n",
       "      <td>Excellent</td>\n",
       "    </tr>\n",
       "    <tr>\n",
       "      <th>3</th>\n",
       "      <td>1</td>\n",
       "      <td>5</td>\n",
       "      <td>Research &amp; Development</td>\n",
       "      <td>Research Scientist</td>\n",
       "      <td>No</td>\n",
       "      <td>Female</td>\n",
       "      <td>33</td>\n",
       "      <td>Married</td>\n",
       "      <td>Master</td>\n",
       "      <td>Life Sciences</td>\n",
       "      <td>...</td>\n",
       "      <td>56</td>\n",
       "      <td>2909</td>\n",
       "      <td>11</td>\n",
       "      <td>Yes</td>\n",
       "      <td>8</td>\n",
       "      <td>3</td>\n",
       "      <td>Very High</td>\n",
       "      <td>3</td>\n",
       "      <td>Better</td>\n",
       "      <td>Excellent</td>\n",
       "    </tr>\n",
       "    <tr>\n",
       "      <th>4</th>\n",
       "      <td>1</td>\n",
       "      <td>7</td>\n",
       "      <td>Research &amp; Development</td>\n",
       "      <td>Laboratory Technician</td>\n",
       "      <td>No</td>\n",
       "      <td>Male</td>\n",
       "      <td>27</td>\n",
       "      <td>Married</td>\n",
       "      <td>Below College</td>\n",
       "      <td>Medical</td>\n",
       "      <td>...</td>\n",
       "      <td>40</td>\n",
       "      <td>3468</td>\n",
       "      <td>12</td>\n",
       "      <td>No</td>\n",
       "      <td>6</td>\n",
       "      <td>2</td>\n",
       "      <td>Low</td>\n",
       "      <td>3</td>\n",
       "      <td>Better</td>\n",
       "      <td>Excellent</td>\n",
       "    </tr>\n",
       "  </tbody>\n",
       "</table>\n",
       "<p>5 rows × 24 columns</p>\n",
       "</div>"
      ],
      "text/plain": [
       "   EmployeeCount  EmployeeID              Department                JobRole  \\\n",
       "0              1           1                   Sales        Sales Executive   \n",
       "1              1           2  Research & Development     Research Scientist   \n",
       "2              1           4  Research & Development  Laboratory Technician   \n",
       "3              1           5  Research & Development     Research Scientist   \n",
       "4              1           7  Research & Development  Laboratory Technician   \n",
       "\n",
       "  Attrition  Gender  Age MaritalStatus      Education EducationField  ...  \\\n",
       "0       Yes  Female   41        Single        College  Life Sciences  ...   \n",
       "1        No    Male   49       Married  Below College  Life Sciences  ...   \n",
       "2       Yes    Male   37        Single        College          Other  ...   \n",
       "3        No  Female   33       Married         Master  Life Sciences  ...   \n",
       "4        No    Male   27       Married  Below College        Medical  ...   \n",
       "\n",
       "  Hourlyrate Income  Salaryhike OverTime  Workex  YearsSinceLastPromotion  \\\n",
       "0         94   5993          11      Yes       8                        0   \n",
       "1         61   5130          23       No      10                        1   \n",
       "2         92   2090          15      Yes       7                        0   \n",
       "3         56   2909          11      Yes       8                        3   \n",
       "4         40   3468          12       No       6                        2   \n",
       "\n",
       "   EmpSatisfaction TrainingTimesLastYear  WorkLifeBalance  Performance_Rating  \n",
       "0           Medium                     0              Bad           Excellent  \n",
       "1             High                     3           Better         Outstanding  \n",
       "2        Very High                     3           Better           Excellent  \n",
       "3        Very High                     3           Better           Excellent  \n",
       "4              Low                     3           Better           Excellent  \n",
       "\n",
       "[5 rows x 24 columns]"
      ]
     },
     "execution_count": 8,
     "metadata": {},
     "output_type": "execute_result"
    }
   ],
   "source": [
    "#Look at the first 5 observations of the data set\n",
    "hr.head()"
   ]
  },
  {
   "cell_type": "code",
   "execution_count": 9,
   "metadata": {},
   "outputs": [
    {
     "data": {
      "text/html": [
       "<div>\n",
       "<style scoped>\n",
       "    .dataframe tbody tr th:only-of-type {\n",
       "        vertical-align: middle;\n",
       "    }\n",
       "\n",
       "    .dataframe tbody tr th {\n",
       "        vertical-align: top;\n",
       "    }\n",
       "\n",
       "    .dataframe thead th {\n",
       "        text-align: right;\n",
       "    }\n",
       "</style>\n",
       "<table border=\"1\" class=\"dataframe\">\n",
       "  <thead>\n",
       "    <tr style=\"text-align: right;\">\n",
       "      <th></th>\n",
       "      <th>EmployeeCount</th>\n",
       "      <th>EmployeeID</th>\n",
       "      <th>Age</th>\n",
       "      <th>JobLevel</th>\n",
       "      <th>Hourlyrate</th>\n",
       "      <th>Income</th>\n",
       "      <th>Salaryhike</th>\n",
       "      <th>Workex</th>\n",
       "      <th>YearsSinceLastPromotion</th>\n",
       "      <th>TrainingTimesLastYear</th>\n",
       "    </tr>\n",
       "  </thead>\n",
       "  <tbody>\n",
       "    <tr>\n",
       "      <th>count</th>\n",
       "      <td>1470.0</td>\n",
       "      <td>1470.000000</td>\n",
       "      <td>1470.000000</td>\n",
       "      <td>1470.000000</td>\n",
       "      <td>1470.000000</td>\n",
       "      <td>1470.000000</td>\n",
       "      <td>1470.000000</td>\n",
       "      <td>1470.000000</td>\n",
       "      <td>1470.000000</td>\n",
       "      <td>1470.000000</td>\n",
       "    </tr>\n",
       "    <tr>\n",
       "      <th>mean</th>\n",
       "      <td>1.0</td>\n",
       "      <td>1024.865306</td>\n",
       "      <td>36.923810</td>\n",
       "      <td>2.063946</td>\n",
       "      <td>65.891156</td>\n",
       "      <td>6502.931293</td>\n",
       "      <td>15.209524</td>\n",
       "      <td>11.279592</td>\n",
       "      <td>2.187755</td>\n",
       "      <td>2.799320</td>\n",
       "    </tr>\n",
       "    <tr>\n",
       "      <th>std</th>\n",
       "      <td>0.0</td>\n",
       "      <td>602.024335</td>\n",
       "      <td>9.135373</td>\n",
       "      <td>1.106940</td>\n",
       "      <td>20.329428</td>\n",
       "      <td>4707.956783</td>\n",
       "      <td>3.659938</td>\n",
       "      <td>7.780782</td>\n",
       "      <td>3.222430</td>\n",
       "      <td>1.289271</td>\n",
       "    </tr>\n",
       "    <tr>\n",
       "      <th>min</th>\n",
       "      <td>1.0</td>\n",
       "      <td>1.000000</td>\n",
       "      <td>18.000000</td>\n",
       "      <td>1.000000</td>\n",
       "      <td>30.000000</td>\n",
       "      <td>1009.000000</td>\n",
       "      <td>11.000000</td>\n",
       "      <td>0.000000</td>\n",
       "      <td>0.000000</td>\n",
       "      <td>0.000000</td>\n",
       "    </tr>\n",
       "    <tr>\n",
       "      <th>25%</th>\n",
       "      <td>1.0</td>\n",
       "      <td>491.250000</td>\n",
       "      <td>30.000000</td>\n",
       "      <td>1.000000</td>\n",
       "      <td>48.000000</td>\n",
       "      <td>2911.000000</td>\n",
       "      <td>12.000000</td>\n",
       "      <td>6.000000</td>\n",
       "      <td>0.000000</td>\n",
       "      <td>2.000000</td>\n",
       "    </tr>\n",
       "    <tr>\n",
       "      <th>50%</th>\n",
       "      <td>1.0</td>\n",
       "      <td>1020.500000</td>\n",
       "      <td>36.000000</td>\n",
       "      <td>2.000000</td>\n",
       "      <td>66.000000</td>\n",
       "      <td>4919.000000</td>\n",
       "      <td>14.000000</td>\n",
       "      <td>10.000000</td>\n",
       "      <td>1.000000</td>\n",
       "      <td>3.000000</td>\n",
       "    </tr>\n",
       "    <tr>\n",
       "      <th>75%</th>\n",
       "      <td>1.0</td>\n",
       "      <td>1555.750000</td>\n",
       "      <td>43.000000</td>\n",
       "      <td>3.000000</td>\n",
       "      <td>83.750000</td>\n",
       "      <td>8379.000000</td>\n",
       "      <td>18.000000</td>\n",
       "      <td>15.000000</td>\n",
       "      <td>3.000000</td>\n",
       "      <td>3.000000</td>\n",
       "    </tr>\n",
       "    <tr>\n",
       "      <th>max</th>\n",
       "      <td>1.0</td>\n",
       "      <td>2068.000000</td>\n",
       "      <td>60.000000</td>\n",
       "      <td>5.000000</td>\n",
       "      <td>100.000000</td>\n",
       "      <td>19999.000000</td>\n",
       "      <td>25.000000</td>\n",
       "      <td>40.000000</td>\n",
       "      <td>15.000000</td>\n",
       "      <td>6.000000</td>\n",
       "    </tr>\n",
       "  </tbody>\n",
       "</table>\n",
       "</div>"
      ],
      "text/plain": [
       "       EmployeeCount   EmployeeID          Age     JobLevel   Hourlyrate  \\\n",
       "count         1470.0  1470.000000  1470.000000  1470.000000  1470.000000   \n",
       "mean             1.0  1024.865306    36.923810     2.063946    65.891156   \n",
       "std              0.0   602.024335     9.135373     1.106940    20.329428   \n",
       "min              1.0     1.000000    18.000000     1.000000    30.000000   \n",
       "25%              1.0   491.250000    30.000000     1.000000    48.000000   \n",
       "50%              1.0  1020.500000    36.000000     2.000000    66.000000   \n",
       "75%              1.0  1555.750000    43.000000     3.000000    83.750000   \n",
       "max              1.0  2068.000000    60.000000     5.000000   100.000000   \n",
       "\n",
       "             Income   Salaryhike       Workex  YearsSinceLastPromotion  \\\n",
       "count   1470.000000  1470.000000  1470.000000              1470.000000   \n",
       "mean    6502.931293    15.209524    11.279592                 2.187755   \n",
       "std     4707.956783     3.659938     7.780782                 3.222430   \n",
       "min     1009.000000    11.000000     0.000000                 0.000000   \n",
       "25%     2911.000000    12.000000     6.000000                 0.000000   \n",
       "50%     4919.000000    14.000000    10.000000                 1.000000   \n",
       "75%     8379.000000    18.000000    15.000000                 3.000000   \n",
       "max    19999.000000    25.000000    40.000000                15.000000   \n",
       "\n",
       "       TrainingTimesLastYear  \n",
       "count            1470.000000  \n",
       "mean                2.799320  \n",
       "std                 1.289271  \n",
       "min                 0.000000  \n",
       "25%                 2.000000  \n",
       "50%                 3.000000  \n",
       "75%                 3.000000  \n",
       "max                 6.000000  "
      ]
     },
     "execution_count": 9,
     "metadata": {},
     "output_type": "execute_result"
    }
   ],
   "source": [
    "#Summary Statistics\n",
    "hr.describe()"
   ]
  },
  {
   "cell_type": "code",
   "execution_count": 10,
   "metadata": {},
   "outputs": [
    {
     "data": {
      "text/plain": [
       "EmployeeCount              0\n",
       "EmployeeID                 0\n",
       "Department                 0\n",
       "JobRole                    0\n",
       "Attrition                  0\n",
       "Gender                     0\n",
       "Age                        0\n",
       "MaritalStatus              0\n",
       "Education                  0\n",
       "EducationField             0\n",
       "BusinessTravel             0\n",
       "JobInvolvement             0\n",
       "JobLevel                   0\n",
       "JobSatisfaction            0\n",
       "Hourlyrate                 0\n",
       "Income                     0\n",
       "Salaryhike                 0\n",
       "OverTime                   0\n",
       "Workex                     0\n",
       "YearsSinceLastPromotion    0\n",
       "EmpSatisfaction            0\n",
       "TrainingTimesLastYear      0\n",
       "WorkLifeBalance            0\n",
       "Performance_Rating         0\n",
       "dtype: int64"
      ]
     },
     "execution_count": 10,
     "metadata": {},
     "output_type": "execute_result"
    }
   ],
   "source": [
    "#View sum of the missing values of each variables\n",
    "hr.isnull().sum()"
   ]
  },
  {
   "cell_type": "markdown",
   "metadata": {},
   "source": [
    "  Exploring some Variable\n",
    "     Ploting some graphical and descriptive informations \n",
    "        \n",
    "        Some Seaborn graphical"
   ]
  },
  {
   "cell_type": "code",
   "execution_count": 103,
   "metadata": {},
   "outputs": [
    {
     "data": {
      "text/plain": [
       "<matplotlib.axes._subplots.AxesSubplot at 0x2020e9abb70>"
      ]
     },
     "execution_count": 103,
     "metadata": {},
     "output_type": "execute_result"
    },
    {
     "data": {
      "image/png": "[encoded data removed]",
      "text/plain": [
       "<Figure size 432x288 with 1 Axes>"
      ]
     },
     "metadata": {
      "needs_background": "light"
     },
     "output_type": "display_data"
    }
   ],
   "source": [
    "#Target variable distribution\n",
    "sns.countplot(\"Attrition\", data=hr)"
   ]
  },
  {
   "cell_type": "code",
   "execution_count": 104,
   "metadata": {},
   "outputs": [
    {
     "data": {
      "image/png": "[encoded data removed]",
      "text/plain": [
       "<Figure size 432x288 with 1 Axes>"
      ]
     },
     "metadata": {},
     "output_type": "display_data"
    }
   ],
   "source": [
    "attritioncount=hr['Attrition'].value_counts()\n",
    "#print(attritioncount)\n",
    "labels=['No','Yes']\n",
    "colors=['gold','lightskyblue']\n",
    "explode=(0.1,0)\n",
    "\n",
    "plt.pie(attritioncount,explode=explode,labels=labels,colors=colors,\n",
    "        autopct='%1.1f%%',shadow=True,startangle=45)\n",
    "plt.show()"
   ]
  },
  {
   "cell_type": "markdown",
   "metadata": {},
   "source": [
    "84% employees are stay at the company"
   ]
  },
  {
   "cell_type": "code",
   "execution_count": 105,
   "metadata": {},
   "outputs": [
    {
     "name": "stdout",
     "output_type": "stream",
     "text": [
      "No     1233\n",
      "Yes     237\n",
      "Name: Attrition, dtype: int64\n"
     ]
    }
   ],
   "source": [
    "count_classes = pd.value_counts(hr['Attrition'], sort = True).sort_index()\n",
    "print(count_classes)\n",
    "#hr['Attrition'].value_counts()"
   ]
  },
  {
   "cell_type": "markdown",
   "metadata": {},
   "source": [
    "Looking at the bar graph and the values, one can easily concluded that people leaving(1) the company is smaller than non-leavers(0).\n",
    "There are 237 employees left and 1233 employees stayed in our data."
   ]
  },
  {
   "cell_type": "code",
   "execution_count": 106,
   "metadata": {},
   "outputs": [
    {
     "name": "stdout",
     "output_type": "stream",
     "text": [
      "Attrition        No       Yes\n",
      "Gender                       \n",
      "Female     0.852041  0.147959\n",
      "Male       0.829932  0.170068\n"
     ]
    },
    {
     "data": {
      "image/png": "[encoded data removed]",
      "text/plain": [
       "<Figure size 432x288 with 1 Axes>"
      ]
     },
     "metadata": {
      "needs_background": "light"
     },
     "output_type": "display_data"
    }
   ],
   "source": [
    "print(pd.crosstab(hr.Gender,hr.Attrition,normalize='index'))\n",
    "pd.crosstab(hr.Gender,hr.Attrition).plot(kind='bar')\n",
    "plt.title('Attrition with respect to Gender')\n",
    "plt.xlabel('Gender')\n",
    "plt.ylabel('Frequency of Attrition')\n",
    "plt.show()"
   ]
  },
  {
   "cell_type": "markdown",
   "metadata": {},
   "source": [
    "Based on the above chart, Gender seems to have some effect on Attrition. It seems like more male employees have been attritioned than the female employees with normalised gender distribution of ex-employees in the dataset at 17.0% for Males and 14.8% for Females."
   ]
  },
  {
   "cell_type": "code",
   "execution_count": 107,
   "metadata": {},
   "outputs": [
    {
     "data": {
      "text/plain": [
       "Research & Development    961\n",
       "Sales                     446\n",
       "Human Resources            63\n",
       "Name: Department, dtype: int64"
      ]
     },
     "execution_count": 107,
     "metadata": {},
     "output_type": "execute_result"
    }
   ],
   "source": [
    "hr.Department.value_counts()"
   ]
  },
  {
   "cell_type": "code",
   "execution_count": 108,
   "metadata": {},
   "outputs": [
    {
     "data": {
      "text/plain": [
       "<matplotlib.axes._subplots.AxesSubplot at 0x2020ea1ab70>"
      ]
     },
     "execution_count": 108,
     "metadata": {},
     "output_type": "execute_result"
    },
    {
     "data": {
      "image/png": "[encoded data removed]",
      "text/plain": [
       "<Figure size 432x288 with 1 Axes>"
      ]
     },
     "metadata": {
      "needs_background": "light"
     },
     "output_type": "display_data"
    }
   ],
   "source": [
    "pd.crosstab(hr.Department,hr.Attrition).plot(kind='bar')"
   ]
  },
  {
   "cell_type": "markdown",
   "metadata": {},
   "source": [
    "There is much variation in the data based on the Department attribute. Hence it has a prominent effect on the target variable and will be useful for modelling and prediction. R&D department has the highest record for attrition; on the other hand it also has the highest number of employees when compared to HR and Sales departments."
   ]
  },
  {
   "cell_type": "code",
   "execution_count": 109,
   "metadata": {},
   "outputs": [
    {
     "name": "stdout",
     "output_type": "stream",
     "text": [
      "Attrition          No  Yes\n",
      "EducationField            \n",
      "Human Resources    20    7\n",
      "Life Sciences     517   89\n",
      "Marketing         124   35\n",
      "Medical           401   63\n",
      "Other              71   11\n",
      "Technical Degree  100   32\n"
     ]
    },
    {
     "data": {
      "image/png": "[encoded data removed]",
      "text/plain": [
       "<Figure size 432x288 with 1 Axes>"
      ]
     },
     "metadata": {
      "needs_background": "light"
     },
     "output_type": "display_data"
    }
   ],
   "source": [
    "#Breakdown of Attribution data with respect to EducationField\n",
    "print(pd.crosstab(hr['EducationField'],hr['Attrition']))\n",
    "pd.crosstab(hr['EducationField'],hr['Attrition']).plot(kind='bar')\n",
    "\n",
    "plt.title('Attrition with respect to EducationField')\n",
    "plt.xlabel('EducationField')\n",
    "plt.ylabel('Frequency of Attrition')\n",
    "#plt.show()"
   ]
  },
  {
   "cell_type": "markdown",
   "metadata": {},
   "source": [
    "LifeSciences and Medical fields have the highest number of employees and attrition rate as well. The percentage of employees who have attritioned against those who have been retained seems to be approximately same in all the education fields."
   ]
  },
  {
   "cell_type": "code",
   "execution_count": 110,
   "metadata": {},
   "outputs": [
    {
     "data": {
      "text/plain": [
       "<matplotlib.axes._subplots.AxesSubplot at 0x2020eafde80>"
      ]
     },
     "execution_count": 110,
     "metadata": {},
     "output_type": "execute_result"
    },
    {
     "data": {
      "image/png": "[encoded data removed]",
      "text/plain": [
       "<Figure size 720x1080 with 1 Axes>"
      ]
     },
     "metadata": {
      "needs_background": "light"
     },
     "output_type": "display_data"
    }
   ],
   "source": [
    "#Work experience\n",
    "pd.crosstab(hr.Workex,hr.Attrition).plot(kind='barh',color=('blue','green'),figsize=(10,15))"
   ]
  },
  {
   "cell_type": "raw",
   "metadata": {},
   "source": [
    "People with 1 year of experience in company tend to leave often"
   ]
  },
  {
   "cell_type": "code",
   "execution_count": 111,
   "metadata": {},
   "outputs": [
    {
     "data": {
      "text/html": [
       "<div>\n",
       "<style scoped>\n",
       "    .dataframe tbody tr th:only-of-type {\n",
       "        vertical-align: middle;\n",
       "    }\n",
       "\n",
       "    .dataframe tbody tr th {\n",
       "        vertical-align: top;\n",
       "    }\n",
       "\n",
       "    .dataframe thead th {\n",
       "        text-align: right;\n",
       "    }\n",
       "</style>\n",
       "<table border=\"1\" class=\"dataframe\">\n",
       "  <thead>\n",
       "    <tr style=\"text-align: right;\">\n",
       "      <th>Attrition</th>\n",
       "      <th>No</th>\n",
       "      <th>Yes</th>\n",
       "    </tr>\n",
       "    <tr>\n",
       "      <th>Performance_Rating</th>\n",
       "      <th></th>\n",
       "      <th></th>\n",
       "    </tr>\n",
       "  </thead>\n",
       "  <tbody>\n",
       "    <tr>\n",
       "      <th>Excellent</th>\n",
       "      <td>1044</td>\n",
       "      <td>200</td>\n",
       "    </tr>\n",
       "    <tr>\n",
       "      <th>Outstanding</th>\n",
       "      <td>189</td>\n",
       "      <td>37</td>\n",
       "    </tr>\n",
       "  </tbody>\n",
       "</table>\n",
       "</div>"
      ],
      "text/plain": [
       "Attrition             No  Yes\n",
       "Performance_Rating           \n",
       "Excellent           1044  200\n",
       "Outstanding          189   37"
      ]
     },
     "execution_count": 111,
     "metadata": {},
     "output_type": "execute_result"
    }
   ],
   "source": [
    "pd.crosstab(hr.Performance_Rating,hr.Attrition)"
   ]
  },
  {
   "cell_type": "markdown",
   "metadata": {},
   "source": []
  },
  {
   "cell_type": "code",
   "execution_count": 127,
   "metadata": {},
   "outputs": [
    {
     "data": {
      "text/html": [
       "<div>\n",
       "<style scoped>\n",
       "    .dataframe tbody tr th:only-of-type {\n",
       "        vertical-align: middle;\n",
       "    }\n",
       "\n",
       "    .dataframe tbody tr th {\n",
       "        vertical-align: top;\n",
       "    }\n",
       "\n",
       "    .dataframe thead th {\n",
       "        text-align: right;\n",
       "    }\n",
       "</style>\n",
       "<table border=\"1\" class=\"dataframe\">\n",
       "  <thead>\n",
       "    <tr style=\"text-align: right;\">\n",
       "      <th>Attrition</th>\n",
       "      <th>No</th>\n",
       "      <th>Yes</th>\n",
       "    </tr>\n",
       "    <tr>\n",
       "      <th>OverTime</th>\n",
       "      <th></th>\n",
       "      <th></th>\n",
       "    </tr>\n",
       "  </thead>\n",
       "  <tbody>\n",
       "    <tr>\n",
       "      <th>No</th>\n",
       "      <td>0.642177</td>\n",
       "      <td>0.074830</td>\n",
       "    </tr>\n",
       "    <tr>\n",
       "      <th>Yes</th>\n",
       "      <td>0.196599</td>\n",
       "      <td>0.086395</td>\n",
       "    </tr>\n",
       "  </tbody>\n",
       "</table>\n",
       "</div>"
      ],
      "text/plain": [
       "Attrition        No       Yes\n",
       "OverTime                     \n",
       "No         0.642177  0.074830\n",
       "Yes        0.196599  0.086395"
      ]
     },
     "execution_count": 127,
     "metadata": {},
     "output_type": "execute_result"
    }
   ],
   "source": [
    "pd.crosstab(hr.OverTime,hr.Attrition,normalize=True)"
   ]
  },
  {
   "cell_type": "code",
   "execution_count": 113,
   "metadata": {},
   "outputs": [
    {
     "data": {
      "text/plain": [
       "<matplotlib.axes._subplots.AxesSubplot at 0x2020e85a390>"
      ]
     },
     "execution_count": 113,
     "metadata": {},
     "output_type": "execute_result"
    },
    {
     "data": {
      "image/png": "[encoded data removed]",
      "text/plain": [
       "<Figure size 360x360 with 1 Axes>"
      ]
     },
     "metadata": {
      "needs_background": "light"
     },
     "output_type": "display_data"
    }
   ],
   "source": [
    "pd.crosstab(hr.OverTime,hr.Attrition).plot(kind='bar',color=('blue','green'),figsize=(5,5))"
   ]
  },
  {
   "cell_type": "markdown",
   "metadata": {},
   "source": [
    "OverTime work for people leaving the company is little more than people with less work hours. Point of frustration maybe "
   ]
  },
  {
   "cell_type": "code",
   "execution_count": 114,
   "metadata": {},
   "outputs": [
    {
     "data": {
      "text/html": [
       "<div>\n",
       "<style scoped>\n",
       "    .dataframe tbody tr th:only-of-type {\n",
       "        vertical-align: middle;\n",
       "    }\n",
       "\n",
       "    .dataframe tbody tr th {\n",
       "        vertical-align: top;\n",
       "    }\n",
       "\n",
       "    .dataframe thead th {\n",
       "        text-align: right;\n",
       "    }\n",
       "</style>\n",
       "<table border=\"1\" class=\"dataframe\">\n",
       "  <thead>\n",
       "    <tr style=\"text-align: right;\">\n",
       "      <th>JobSatisfaction</th>\n",
       "      <th>High</th>\n",
       "      <th>Low</th>\n",
       "      <th>Medium</th>\n",
       "      <th>Very High</th>\n",
       "    </tr>\n",
       "    <tr>\n",
       "      <th>Attrition</th>\n",
       "      <th></th>\n",
       "      <th></th>\n",
       "      <th></th>\n",
       "      <th></th>\n",
       "    </tr>\n",
       "  </thead>\n",
       "  <tbody>\n",
       "    <tr>\n",
       "      <th>No</th>\n",
       "      <td>369</td>\n",
       "      <td>223</td>\n",
       "      <td>234</td>\n",
       "      <td>407</td>\n",
       "    </tr>\n",
       "    <tr>\n",
       "      <th>Yes</th>\n",
       "      <td>73</td>\n",
       "      <td>66</td>\n",
       "      <td>46</td>\n",
       "      <td>52</td>\n",
       "    </tr>\n",
       "  </tbody>\n",
       "</table>\n",
       "</div>"
      ],
      "text/plain": [
       "JobSatisfaction  High  Low  Medium  Very High\n",
       "Attrition                                    \n",
       "No                369  223     234        407\n",
       "Yes                73   66      46         52"
      ]
     },
     "execution_count": 114,
     "metadata": {},
     "output_type": "execute_result"
    }
   ],
   "source": [
    "pd.crosstab(hr.Attrition,hr.JobSatisfaction)"
   ]
  },
  {
   "cell_type": "markdown",
   "metadata": {},
   "source": []
  },
  {
   "cell_type": "code",
   "execution_count": 115,
   "metadata": {},
   "outputs": [
    {
     "data": {
      "text/plain": [
       "Married     673\n",
       "Single      470\n",
       "Divorced    327\n",
       "Name: MaritalStatus, dtype: int64"
      ]
     },
     "execution_count": 115,
     "metadata": {},
     "output_type": "execute_result"
    }
   ],
   "source": [
    "hr['MaritalStatus'].value_counts()"
   ]
  },
  {
   "cell_type": "code",
   "execution_count": 116,
   "metadata": {},
   "outputs": [
    {
     "data": {
      "text/html": [
       "<div>\n",
       "<style scoped>\n",
       "    .dataframe tbody tr th:only-of-type {\n",
       "        vertical-align: middle;\n",
       "    }\n",
       "\n",
       "    .dataframe tbody tr th {\n",
       "        vertical-align: top;\n",
       "    }\n",
       "\n",
       "    .dataframe thead th {\n",
       "        text-align: right;\n",
       "    }\n",
       "</style>\n",
       "<table border=\"1\" class=\"dataframe\">\n",
       "  <thead>\n",
       "    <tr style=\"text-align: right;\">\n",
       "      <th>MaritalStatus</th>\n",
       "      <th>Divorced</th>\n",
       "      <th>Married</th>\n",
       "      <th>Single</th>\n",
       "    </tr>\n",
       "    <tr>\n",
       "      <th>Attrition</th>\n",
       "      <th></th>\n",
       "      <th></th>\n",
       "      <th></th>\n",
       "    </tr>\n",
       "  </thead>\n",
       "  <tbody>\n",
       "    <tr>\n",
       "      <th>No</th>\n",
       "      <td>0.238443</td>\n",
       "      <td>0.477697</td>\n",
       "      <td>0.283861</td>\n",
       "    </tr>\n",
       "    <tr>\n",
       "      <th>Yes</th>\n",
       "      <td>0.139241</td>\n",
       "      <td>0.354430</td>\n",
       "      <td>0.506329</td>\n",
       "    </tr>\n",
       "  </tbody>\n",
       "</table>\n",
       "</div>"
      ],
      "text/plain": [
       "MaritalStatus  Divorced   Married    Single\n",
       "Attrition                                  \n",
       "No             0.238443  0.477697  0.283861\n",
       "Yes            0.139241  0.354430  0.506329"
      ]
     },
     "execution_count": 116,
     "metadata": {},
     "output_type": "execute_result"
    }
   ],
   "source": [
    "#print(pd.crosstab(hr.Attrition,hr.MaritalStatus)\n",
    "pd.crosstab(hr.Attrition,hr.MaritalStatus,normalize='index')\n"
   ]
  },
  {
   "cell_type": "markdown",
   "metadata": {},
   "source": [
    "The dataset features three marital status: Married (673 employees), Single (470 employees), Divorced (327 employees). Single employees show the largest proportion of leavers at 51%."
   ]
  },
  {
   "cell_type": "code",
   "execution_count": 117,
   "metadata": {},
   "outputs": [
    {
     "data": {
      "text/html": [
       "<div>\n",
       "<style scoped>\n",
       "    .dataframe tbody tr th:only-of-type {\n",
       "        vertical-align: middle;\n",
       "    }\n",
       "\n",
       "    .dataframe tbody tr th {\n",
       "        vertical-align: top;\n",
       "    }\n",
       "\n",
       "    .dataframe thead th {\n",
       "        text-align: right;\n",
       "    }\n",
       "</style>\n",
       "<table border=\"1\" class=\"dataframe\">\n",
       "  <thead>\n",
       "    <tr style=\"text-align: right;\">\n",
       "      <th>YearsSinceLastPromotion</th>\n",
       "      <th>0</th>\n",
       "      <th>1</th>\n",
       "      <th>2</th>\n",
       "      <th>3</th>\n",
       "      <th>4</th>\n",
       "      <th>5</th>\n",
       "      <th>6</th>\n",
       "      <th>7</th>\n",
       "      <th>8</th>\n",
       "      <th>9</th>\n",
       "      <th>10</th>\n",
       "      <th>11</th>\n",
       "      <th>12</th>\n",
       "      <th>13</th>\n",
       "      <th>14</th>\n",
       "      <th>15</th>\n",
       "    </tr>\n",
       "    <tr>\n",
       "      <th>Attrition</th>\n",
       "      <th></th>\n",
       "      <th></th>\n",
       "      <th></th>\n",
       "      <th></th>\n",
       "      <th></th>\n",
       "      <th></th>\n",
       "      <th></th>\n",
       "      <th></th>\n",
       "      <th></th>\n",
       "      <th></th>\n",
       "      <th></th>\n",
       "      <th></th>\n",
       "      <th></th>\n",
       "      <th></th>\n",
       "      <th></th>\n",
       "      <th></th>\n",
       "    </tr>\n",
       "  </thead>\n",
       "  <tbody>\n",
       "    <tr>\n",
       "      <th>No</th>\n",
       "      <td>471</td>\n",
       "      <td>308</td>\n",
       "      <td>132</td>\n",
       "      <td>43</td>\n",
       "      <td>56</td>\n",
       "      <td>43</td>\n",
       "      <td>26</td>\n",
       "      <td>60</td>\n",
       "      <td>18</td>\n",
       "      <td>13</td>\n",
       "      <td>5</td>\n",
       "      <td>22</td>\n",
       "      <td>10</td>\n",
       "      <td>8</td>\n",
       "      <td>8</td>\n",
       "      <td>10</td>\n",
       "    </tr>\n",
       "    <tr>\n",
       "      <th>Yes</th>\n",
       "      <td>110</td>\n",
       "      <td>49</td>\n",
       "      <td>27</td>\n",
       "      <td>9</td>\n",
       "      <td>5</td>\n",
       "      <td>2</td>\n",
       "      <td>6</td>\n",
       "      <td>16</td>\n",
       "      <td>0</td>\n",
       "      <td>4</td>\n",
       "      <td>1</td>\n",
       "      <td>2</td>\n",
       "      <td>0</td>\n",
       "      <td>2</td>\n",
       "      <td>1</td>\n",
       "      <td>3</td>\n",
       "    </tr>\n",
       "  </tbody>\n",
       "</table>\n",
       "</div>"
      ],
      "text/plain": [
       "YearsSinceLastPromotion   0    1    2   3   4   5   6   7   8   9   10  11  \\\n",
       "Attrition                                                                    \n",
       "No                       471  308  132  43  56  43  26  60  18  13   5  22   \n",
       "Yes                      110   49   27   9   5   2   6  16   0   4   1   2   \n",
       "\n",
       "YearsSinceLastPromotion  12  13  14  15  \n",
       "Attrition                                \n",
       "No                       10   8   8  10  \n",
       "Yes                       0   2   1   3  "
      ]
     },
     "execution_count": 117,
     "metadata": {},
     "output_type": "execute_result"
    }
   ],
   "source": [
    "#pd.crosstab(hr.Attrition,hr.YearsSinceLastPromotion,normalize='index')\n",
    "pd.crosstab(hr.Attrition,hr.YearsSinceLastPromotion)"
   ]
  },
  {
   "cell_type": "markdown",
   "metadata": {},
   "source": []
  },
  {
   "cell_type": "code",
   "execution_count": 118,
   "metadata": {},
   "outputs": [
    {
     "data": {
      "text/html": [
       "<div>\n",
       "<style scoped>\n",
       "    .dataframe tbody tr th:only-of-type {\n",
       "        vertical-align: middle;\n",
       "    }\n",
       "\n",
       "    .dataframe tbody tr th {\n",
       "        vertical-align: top;\n",
       "    }\n",
       "\n",
       "    .dataframe thead th {\n",
       "        text-align: right;\n",
       "    }\n",
       "</style>\n",
       "<table border=\"1\" class=\"dataframe\">\n",
       "  <thead>\n",
       "    <tr style=\"text-align: right;\">\n",
       "      <th>JobRole</th>\n",
       "      <th>Healthcare Representative</th>\n",
       "      <th>Human Resources</th>\n",
       "      <th>Laboratory Technician</th>\n",
       "      <th>Manager</th>\n",
       "      <th>Manufacturing Director</th>\n",
       "      <th>Research Director</th>\n",
       "      <th>Research Scientist</th>\n",
       "      <th>Sales Executive</th>\n",
       "      <th>Sales Representative</th>\n",
       "    </tr>\n",
       "    <tr>\n",
       "      <th>Attrition</th>\n",
       "      <th></th>\n",
       "      <th></th>\n",
       "      <th></th>\n",
       "      <th></th>\n",
       "      <th></th>\n",
       "      <th></th>\n",
       "      <th></th>\n",
       "      <th></th>\n",
       "      <th></th>\n",
       "    </tr>\n",
       "  </thead>\n",
       "  <tbody>\n",
       "    <tr>\n",
       "      <th>No</th>\n",
       "      <td>122</td>\n",
       "      <td>40</td>\n",
       "      <td>197</td>\n",
       "      <td>97</td>\n",
       "      <td>135</td>\n",
       "      <td>78</td>\n",
       "      <td>245</td>\n",
       "      <td>269</td>\n",
       "      <td>50</td>\n",
       "    </tr>\n",
       "    <tr>\n",
       "      <th>Yes</th>\n",
       "      <td>9</td>\n",
       "      <td>12</td>\n",
       "      <td>62</td>\n",
       "      <td>5</td>\n",
       "      <td>10</td>\n",
       "      <td>2</td>\n",
       "      <td>47</td>\n",
       "      <td>57</td>\n",
       "      <td>33</td>\n",
       "    </tr>\n",
       "  </tbody>\n",
       "</table>\n",
       "</div>"
      ],
      "text/plain": [
       "JobRole    Healthcare Representative  Human Resources  Laboratory Technician  \\\n",
       "Attrition                                                                      \n",
       "No                               122               40                    197   \n",
       "Yes                                9               12                     62   \n",
       "\n",
       "JobRole    Manager  Manufacturing Director  Research Director  \\\n",
       "Attrition                                                       \n",
       "No              97                     135                 78   \n",
       "Yes              5                      10                  2   \n",
       "\n",
       "JobRole    Research Scientist  Sales Executive  Sales Representative  \n",
       "Attrition                                                             \n",
       "No                        245              269                    50  \n",
       "Yes                        47               57                    33  "
      ]
     },
     "execution_count": 118,
     "metadata": {},
     "output_type": "execute_result"
    }
   ],
   "source": [
    "#pd.crosstab(hr.Attrition,hr.MaritalStatus,normalize='index')\n",
    "pd.crosstab(hr.Attrition,hr.JobRole)"
   ]
  },
  {
   "cell_type": "markdown",
   "metadata": {},
   "source": [
    "Job role seems to have an impact on the attrition rate of employees based on the above. More people from the role of Laboratory Technician and Sales executive are leaving often."
   ]
  },
  {
   "cell_type": "code",
   "execution_count": 119,
   "metadata": {},
   "outputs": [
    {
     "data": {
      "text/plain": [
       "<matplotlib.axes._subplots.AxesSubplot at 0x2020ee97f60>"
      ]
     },
     "execution_count": 119,
     "metadata": {},
     "output_type": "execute_result"
    },
    {
     "data": {
      "image/png": "[encoded data removed]",
      "text/plain": [
       "<Figure size 1080x360 with 1 Axes>"
      ]
     },
     "metadata": {
      "needs_background": "light"
     },
     "output_type": "display_data"
    }
   ],
   "source": [
    "pd.crosstab(hr.Salaryhike,hr.Attrition).plot(kind='bar',color=('blue','green'),figsize=(15,5))"
   ]
  },
  {
   "cell_type": "markdown",
   "metadata": {},
   "source": []
  },
  {
   "cell_type": "code",
   "execution_count": 120,
   "metadata": {},
   "outputs": [
    {
     "data": {
      "text/plain": [
       "Text(0, 0.5, 'Frequency of Attrition')"
      ]
     },
     "execution_count": 120,
     "metadata": {},
     "output_type": "execute_result"
    },
    {
     "data": {
      "image/png": "[encoded data removed]",
      "text/plain": [
       "<Figure size 432x288 with 1 Axes>"
      ]
     },
     "metadata": {
      "needs_background": "light"
     },
     "output_type": "display_data"
    }
   ],
   "source": [
    "#Leavers by business travel\n",
    "pd.crosstab(hr.BusinessTravel,hr.Attrition).plot(kind='bar')\n",
    "plt.title('Attrition with respect to BusinessTravel')\n",
    "plt.xlabel('BusinessTravel')\n",
    "plt.ylabel('Frequency of Attrition')"
   ]
  },
  {
   "cell_type": "markdown",
   "metadata": {},
   "source": [
    "People who travel frequently seem to be more susceptible to attrition when compared to people who do not travel at all. The reason for this might be that the company wanted to cut down on travel and other costs associated with such employees. But there is a slight inconsistency with this reasoning since people who travel occasionally have been fired the most. This may be because of imbalance in the data set."
   ]
  },
  {
   "cell_type": "code",
   "execution_count": 121,
   "metadata": {},
   "outputs": [
    {
     "data": {
      "text/html": [
       "<div>\n",
       "<style scoped>\n",
       "    .dataframe tbody tr th:only-of-type {\n",
       "        vertical-align: middle;\n",
       "    }\n",
       "\n",
       "    .dataframe tbody tr th {\n",
       "        vertical-align: top;\n",
       "    }\n",
       "\n",
       "    .dataframe thead th {\n",
       "        text-align: right;\n",
       "    }\n",
       "</style>\n",
       "<table border=\"1\" class=\"dataframe\">\n",
       "  <thead>\n",
       "    <tr style=\"text-align: right;\">\n",
       "      <th></th>\n",
       "      <th>EmployeeCount</th>\n",
       "      <th>EmployeeID</th>\n",
       "      <th>Age</th>\n",
       "      <th>JobLevel</th>\n",
       "      <th>Hourlyrate</th>\n",
       "      <th>Income</th>\n",
       "      <th>Salaryhike</th>\n",
       "      <th>Workex</th>\n",
       "      <th>YearsSinceLastPromotion</th>\n",
       "      <th>TrainingTimesLastYear</th>\n",
       "    </tr>\n",
       "    <tr>\n",
       "      <th>Attrition</th>\n",
       "      <th></th>\n",
       "      <th></th>\n",
       "      <th></th>\n",
       "      <th></th>\n",
       "      <th></th>\n",
       "      <th></th>\n",
       "      <th></th>\n",
       "      <th></th>\n",
       "      <th></th>\n",
       "      <th></th>\n",
       "    </tr>\n",
       "  </thead>\n",
       "  <tbody>\n",
       "    <tr>\n",
       "      <th>No</th>\n",
       "      <td>1.0</td>\n",
       "      <td>1027.656123</td>\n",
       "      <td>37.561233</td>\n",
       "      <td>2.145985</td>\n",
       "      <td>65.952149</td>\n",
       "      <td>6832.739659</td>\n",
       "      <td>15.231144</td>\n",
       "      <td>11.862936</td>\n",
       "      <td>2.234388</td>\n",
       "      <td>2.832928</td>\n",
       "    </tr>\n",
       "    <tr>\n",
       "      <th>Yes</th>\n",
       "      <td>1.0</td>\n",
       "      <td>1010.345992</td>\n",
       "      <td>33.607595</td>\n",
       "      <td>1.637131</td>\n",
       "      <td>65.573840</td>\n",
       "      <td>4787.092827</td>\n",
       "      <td>15.097046</td>\n",
       "      <td>8.244726</td>\n",
       "      <td>1.945148</td>\n",
       "      <td>2.624473</td>\n",
       "    </tr>\n",
       "  </tbody>\n",
       "</table>\n",
       "</div>"
      ],
      "text/plain": [
       "           EmployeeCount   EmployeeID        Age  JobLevel  Hourlyrate  \\\n",
       "Attrition                                                                \n",
       "No                   1.0  1027.656123  37.561233  2.145985   65.952149   \n",
       "Yes                  1.0  1010.345992  33.607595  1.637131   65.573840   \n",
       "\n",
       "                Income  Salaryhike     Workex  YearsSinceLastPromotion  \\\n",
       "Attrition                                                                \n",
       "No         6832.739659   15.231144  11.862936                 2.234388   \n",
       "Yes        4787.092827   15.097046   8.244726                 1.945148   \n",
       "\n",
       "           TrainingTimesLastYear  \n",
       "Attrition                         \n",
       "No                      2.832928  \n",
       "Yes                     2.624473  "
      ]
     },
     "execution_count": 121,
     "metadata": {},
     "output_type": "execute_result"
    }
   ],
   "source": [
    "#Let us get a sense of the numbers across these two classes:\n",
    "hr.groupby('Attrition').mean()"
   ]
  },
  {
   "cell_type": "markdown",
   "metadata": {},
   "source": [
    "Most of the people who are not attritioned are about 37 while most of the people who are have been let go are approximately 33 years old. People with monthly income of around 4700 have been attritioned while those with income in the range of 6800 are not.\n",
    "As expected people with lesser number of years of experience (around 8 years on average) have been attritioned. The above table helps us better understand the relationshp between target attribute and the numeric attributes."
   ]
  },
  {
   "cell_type": "code",
   "execution_count": 124,
   "metadata": {},
   "outputs": [],
   "source": [
    "#Create age groups \n",
    "bins = [18, 30, 40, 50, 60]\n",
    "labels = ['18-30', '30-40', '40-50', '50-60']\n",
    "hr['agegroup'] = pd.cut(hr.Age, bins, labels = labels,include_lowest = True)"
   ]
  },
  {
   "cell_type": "code",
   "execution_count": 126,
   "metadata": {},
   "outputs": [
    {
     "data": {
      "text/html": [
       "<div>\n",
       "<style scoped>\n",
       "    .dataframe tbody tr th:only-of-type {\n",
       "        vertical-align: middle;\n",
       "    }\n",
       "\n",
       "    .dataframe tbody tr th {\n",
       "        vertical-align: top;\n",
       "    }\n",
       "\n",
       "    .dataframe thead th {\n",
       "        text-align: right;\n",
       "    }\n",
       "</style>\n",
       "<table border=\"1\" class=\"dataframe\">\n",
       "  <thead>\n",
       "    <tr style=\"text-align: right;\">\n",
       "      <th>Attrition</th>\n",
       "      <th>No</th>\n",
       "      <th>Yes</th>\n",
       "    </tr>\n",
       "    <tr>\n",
       "      <th>agegroup</th>\n",
       "      <th></th>\n",
       "      <th></th>\n",
       "    </tr>\n",
       "  </thead>\n",
       "  <tbody>\n",
       "    <tr>\n",
       "      <th>18-30</th>\n",
       "      <td>286</td>\n",
       "      <td>100</td>\n",
       "    </tr>\n",
       "    <tr>\n",
       "      <th>30-40</th>\n",
       "      <td>534</td>\n",
       "      <td>85</td>\n",
       "    </tr>\n",
       "    <tr>\n",
       "      <th>40-50</th>\n",
       "      <td>288</td>\n",
       "      <td>34</td>\n",
       "    </tr>\n",
       "    <tr>\n",
       "      <th>50-60</th>\n",
       "      <td>125</td>\n",
       "      <td>18</td>\n",
       "    </tr>\n",
       "  </tbody>\n",
       "</table>\n",
       "</div>"
      ],
      "text/plain": [
       "Attrition   No  Yes\n",
       "agegroup           \n",
       "18-30      286  100\n",
       "30-40      534   85\n",
       "40-50      288   34\n",
       "50-60      125   18"
      ]
     },
     "execution_count": 126,
     "metadata": {},
     "output_type": "execute_result"
    }
   ],
   "source": [
    "pd.crosstab(hr.agegroup,hr.Attrition)\n",
    "#cm = sns.light_palette(\"green\", as_cmap=True)\n",
    "#pd.crosstab(hr['agegroup'], hr['Attrition']).style.background_gradient(cmap = cm)"
   ]
  },
  {
   "cell_type": "markdown",
   "metadata": {},
   "source": [
    "The result shows that the majority of young people are leave from the company often."
   ]
  },
  {
   "cell_type": "markdown",
   "metadata": {},
   "source": [
    "LifeSciences and Medical fields have the highest number of employees and attrition rate as well. The percentage of employees who have attritioned against those who have been retained seems to be approximately same in all the education fields"
   ]
  },
  {
   "cell_type": "code",
   "execution_count": 131,
   "metadata": {},
   "outputs": [],
   "source": [
    "colnames = ['Education','JobInvolvement', 'JobLevel','JobSatisfaction', 'Performance_Rating', 'OverTime', 'WorkLifeBalance']\n",
    "for c in colnames:\n",
    "    hr[c] = hr[c].astype('category')"
   ]
  },
  {
   "cell_type": "code",
   "execution_count": 133,
   "metadata": {},
   "outputs": [
    {
     "data": {
      "text/plain": [
       "<matplotlib.axes._subplots.AxesSubplot at 0x2020d6b8ba8>"
      ]
     },
     "execution_count": 133,
     "metadata": {},
     "output_type": "execute_result"
    },
    {
     "data": {
      "image/png": "[encoded data removed]",
      "text/plain": [
       "<Figure size 720x720 with 2 Axes>"
      ]
     },
     "metadata": {
      "needs_background": "light"
     },
     "output_type": "display_data"
    }
   ],
   "source": [
    "corrmat = data.corr()\n",
    "f, ax = plt.subplots(figsize=(10, 10))\n",
    "sns.heatmap(corrmat, square=True,annot=True)"
   ]
  },
  {
   "cell_type": "code",
   "execution_count": null,
   "metadata": {},
   "outputs": [],
   "source": [
    "# convert to numeric for mean\n",
    "hr.Attrition_numeric = hr.Attrition\n",
    "hr.loc[hr.Attrition == 'Yes','Attrition_numeric'] = 1\n",
    "hr.loc[hr.Attrition == 'No','Attrition_numeric'] = 0\n",
    "\n",
    "plt.figure(figsize=(4,5))\n",
    "plt.title(\"Leavers by Gender\")\n",
    "sns.barplot(x = 'Gender', y = 'Attrition_numeric', data=hr)"
   ]
  },
  {
   "cell_type": "markdown",
   "metadata": {},
   "source": [
    "Gender distribution shows that the dataset features a higher relative proportion of male ex-employees than female ex-employees, with normalised gender distribution of ex-employees in the dataset at 17.0% for Males and 14.8% for Females."
   ]
  },
  {
   "cell_type": "code",
   "execution_count": null,
   "metadata": {},
   "outputs": [],
   "source": [
    "plt.figure(figsize=(12,8))\n",
    "sns.barplot(x = 'OverTime', y = 'Attrition_numeric', data=hr)"
   ]
  },
  {
   "cell_type": "markdown",
   "metadata": {},
   "source": [
    "satisfaction_level (0–1)\n",
    "\n",
    "last_evaluation (Time since last evaluation in years)\n",
    "\n",
    "number_projects (Number of projects completed while at work)\n",
    "\n",
    "average_monthly_hours (Average monthly hours at workplace)\n",
    "\n",
    "time_spend_company (Time spent at the company in years)\n",
    "\n",
    "Work_accident (Whether the employee had a workplace accident)\n",
    "\n",
    "left (Whether the employee left the workplace or not (1 or 0))\n",
    "\n",
    "promotion_last_5years (Whether the employee was promoted in the last five years)\n",
    "\n",
    "sales (Department in which they work for)\n",
    "\n",
    "salary (Relative level of salary)"
   ]
  },
  {
   "cell_type": "markdown",
   "metadata": {},
   "source": [
    "EDA Concluding Remarks\n",
    "\n",
    "The dataset does not feature any missing or erroneous data values, and all features are of the correct data type.\n",
    "\n",
    "The strongest positive correlations with the target features are: Performance Rating, Monthly Rate, Num Companies Worked, Distance From Home.\n",
    "\n",
    "The strongest negative correlations with the target features are: Total Working Years, Job Level, Years In Current Role, and Monthly Income.\n",
    "\n",
    "The dataset is imbalanced with the majoriy of observations describing Currently Active Employees.\n",
    "\n",
    "Single employees show the largest proportion of leavers, compared to Married and Divorced counterparts.\n",
    "\n",
    "About 10% of leavers left when they reach their 2-year anniversary at the company.\n",
    "People who live further away from their work show higher proportion of leavers compared to their counterparts.\n",
    "\n",
    "People who travel frequently show higher proportion of leavers compared to their counterparts.\n",
    "\n",
    "People who have to work overtime show higher proportion of leavers compared to their counterparts.\n",
    "\n",
    "Employees that have already worked at several companies previously (already “bounced” between workplaces) show higher proportion of leavers compared to their counterparts."
   ]
  },
  {
   "cell_type": "markdown",
   "metadata": {},
   "source": [
    "The R&D Department has the lowest attrition rate.\n",
    "\n",
    "HR and Sales have almost equal Attrition rate.\n",
    "\n",
    "Technical, Marketing, and HR which are normally in high demand, people tend to switch more.\n",
    "\n",
    "Environment Satisfaction with level - 4 may be the worst- as people tend to leave more there.\n",
    "\n",
    "Female employee tends to be more loyal than male.\n",
    "\n",
    "I think Job Involvement - 1 is lowest job involvement. As they tend to leave more.\n",
    "\n",
    "People at lower job levels leave more.\n",
    "\n",
    "People at top hierarchy leave less.\n",
    "\n",
    "The lower the job satisfaction, the more people leave.\n",
    "\n",
    "Attrition rate for single and married people are same, whereas Divorced people have a lower attrition rate.\n",
    "\n",
    "Employees who have switched 1-3 companies tend to leave more.\n",
    "\n",
    "Employees getting overtime are staying with the company.\n",
    "\n",
    "Personal life and Professional life do go together. Employees with higher relationship satisfaction tend to stay with the Company.\n",
    "\n",
    "Employees do value stock option. Employees who are not getting stock option have very high attrition rate.\n",
    "\n",
    "Employees do not appreciate too much training. Also, employees who are getting a lot of training may not be doing well in the job. So, they have a higher attrition rate.\n",
    "\n",
    "\n",
    "And finally, employees with low Work-Life-Balance tend to leave the company more."
   ]
  },
  {
   "cell_type": "code",
   "execution_count": null,
   "metadata": {},
   "outputs": [],
   "source": []
  }
 ],
 "metadata": {
  "kernelspec": {
   "display_name": "Python 3",
   "language": "python",
   "name": "python3"
  },
  "language_info": {
   "codemirror_mode": {
    "name": "ipython",
    "version": 3
   },
   "file_extension": ".py",
   "mimetype": "text/x-python",
   "name": "python",
   "nbconvert_exporter": "python",
   "pygments_lexer": "ipython3",
   "version": "3.7.3"
  }
 },
 "nbformat": 4,
 "nbformat_minor": 2
}
